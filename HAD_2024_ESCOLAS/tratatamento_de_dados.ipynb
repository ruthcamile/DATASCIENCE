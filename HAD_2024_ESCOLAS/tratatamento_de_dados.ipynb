{
 "cells": [
  {
   "cell_type": "code",
   "execution_count": null,
   "id": "9878c273",
   "metadata": {},
   "outputs": [],
   "source": [
    "import pandas as pd\n",
    "\n",
    "#isso aqui resolve o problema das linhas que estavam sem nada, deletamos\n",
    "arquivo = pd.read_excel('HAD_ESCOLAS_2024.xlsx', skiprows=7)\n",
    "# o columns ajeita a primeira linha que estava sendo lida como dados e transforma como o nome da coluna\n",
    "arquivo.columns = arquivo.iloc[0]  \n",
    "# esse reseta o o conjunto de dados dando um \"drop\" na anterior (que seria a do antes do columns) e deixa a atual com os nomes das colunas corretas\n",
    "arquivo = arquivo.drop(0).reset_index(drop=True) \n",
    "\n",
    "# Identificar valores ausentes e os tipos de dados \n",
    "arquivo.info()\n",
    "# mostra estatísticas descritivas (média, desvio padrão, mínimo, máximo, etc.)  \n",
    "arquivo.describe()\n",
    "\n",
    "colunas_final = ['NO_REGIAO', 'SG_UF','NO_MUNICIPIO', 'NO_CATEGORIA', 'NO_DEPENDENCIA']\n",
    "arquivo = arquivo[colunas_final]\n",
    "#arquivo.head()\n",
    "\n",
    "arquivo = arquivo.rename(columns={\n",
    "    'NO_REGIAO': 'REGIAO',\n",
    "    'SG_UF': 'UF',\n",
    "    'NO_MUNICIPIO': 'MUNICIPIO',\n",
    "    'NO_CATEGORIA': 'CATEGORIA',\n",
    "    'NO_DEPENDENCIA': 'DEPENDENCIA'\n",
    "})\n",
    "\n",
    "# pra cada grupby foi criado um arquivo pra ser exportado para o PowerBi\n",
    "\n",
    "# arquivo = arquivo.groupby('REGIAO').size().reset_index(name='TOTAL_ESCOLAS')\n",
    "\n",
    "# arquivo.to_excel('./dados_tratados_escolas/dado_tratado_regiao.xlsx', index=False)\n",
    "\n",
    "# arquivo = arquivo.groupby(['UF', 'DEPENDENCIA']).size().reset_index(name='TOTAL_ESCOLAS')\n",
    "\n",
    "# arquivo.to_excel('./dados_tratados_escolas/dado_tratado_UF.xlsx', index=False)\n",
    "\n",
    "# arquivo = arquivo.groupby(['MUNICIPIO', 'CATEGORIA']).size().reset_index(name='TOTAL')\n",
    "\n",
    "# arquivo.to_excel('./dados_tratados_escolas/dado_tratado_municipio.xlsx', index=False) "
   ]
  }
 ],
 "metadata": {
  "kernelspec": {
   "display_name": "Python 3",
   "language": "python",
   "name": "python3"
  },
  "language_info": {
   "codemirror_mode": {
    "name": "ipython",
    "version": 3
   },
   "file_extension": ".py",
   "mimetype": "text/x-python",
   "name": "python",
   "nbconvert_exporter": "python",
   "pygments_lexer": "ipython3",
   "version": "3.13.3"
  }
 },
 "nbformat": 4,
 "nbformat_minor": 5
}
